{
 "cells": [
  {
   "cell_type": "code",
   "execution_count": 20,
   "metadata": {
    "collapsed": false
   },
   "outputs": [],
   "source": [
    "import pandas as pd # pandas -- data reading and manipulation \n",
    "import xgboost as xgb"
   ]
  },
  {
   "cell_type": "code",
   "execution_count": 21,
   "metadata": {
    "collapsed": true
   },
   "outputs": [],
   "source": [
    "# dataframe - python pandas object that holds data and gives you access to methods to manipulate that data \n",
    "df = pd.read_csv('student-mat.csv', sep=';')"
   ]
  },
  {
   "cell_type": "code",
   "execution_count": 22,
   "metadata": {
    "collapsed": false
   },
   "outputs": [],
   "source": [
    "# manipulating G3 (end of year performance) to separate numerical performance into \n",
    "# average, average, below average students. So this line is creating a new column in our dataframe that stores\n",
    "# what type of student this person is \n",
    "df['G3 perf'] = df['G3'].map(lambda x: 0 if x > 15 else 1 if x > 10 else 2)"
   ]
  },
  {
   "cell_type": "code",
   "execution_count": 23,
   "metadata": {
    "collapsed": false
   },
   "outputs": [],
   "source": [
    "feature_cols = ['sex', 'age', 'address', 'famsize', 'Pstatus', 'Medu', 'Fedu','Mjob',\n",
    "                'Fjob', 'reason', 'guardian', 'traveltime', 'studytime', 'failures', 'schoolsup',\n",
    "               'famsup', 'paid', 'activities', 'nursery', 'higher', 'internet', 'romantic', 'famrel',\n",
    "               'freetime', 'goout', 'Dalc', 'Walc', 'health', 'absences']\n",
    "numerics = ['int16', 'int32', 'int64', 'float16', 'float32', 'float64']\n",
    "\n",
    "# df = df.select_dtypes(include=numerics)\n",
    "\n",
    "train = df.sample(frac=0.8)\n",
    "test = df.drop(train.index)\n",
    "\n",
    "train_features = train[feature_cols].select_dtypes(include=numerics).as_matrix()\n",
    "train_labels = train['G3 perf'].as_matrix()\n",
    "\n",
    "test_features = test[feature_cols].select_dtypes(include=numerics).as_matrix()\n",
    "test_labels = test['G3 perf'].as_matrix()"
   ]
  },
  {
   "cell_type": "code",
   "execution_count": 24,
   "metadata": {
    "collapsed": true
   },
   "outputs": [],
   "source": [
    "dtrain = xgb.DMatrix(train_features, label=train_labels)\n",
    "dtest = xgb.DMatrix(test_features, label=test_labels)"
   ]
  },
  {
   "cell_type": "code",
   "execution_count": 28,
   "metadata": {
    "collapsed": false
   },
   "outputs": [
    {
     "name": "stdout",
     "output_type": "stream",
     "text": [
      "[0]\ttrain-merror:0.306962\teval-merror:0.531646\n",
      "[1]\ttrain-merror:0.272152\teval-merror:0.481013\n",
      "[2]\ttrain-merror:0.218354\teval-merror:0.468354\n",
      "[3]\ttrain-merror:0.151899\teval-merror:0.455696\n",
      "[4]\ttrain-merror:0.123418\teval-merror:0.468354\n",
      "[5]\ttrain-merror:0.129747\teval-merror:0.481013\n",
      "[6]\ttrain-merror:0.120253\teval-merror:0.443038\n",
      "[7]\ttrain-merror:0.10443\teval-merror:0.443038\n",
      "[8]\ttrain-merror:0.101266\teval-merror:0.443038\n",
      "[9]\ttrain-merror:0.098101\teval-merror:0.468354\n",
      "[10]\ttrain-merror:0.091772\teval-merror:0.481013\n",
      "[11]\ttrain-merror:0.091772\teval-merror:0.481013\n",
      "[12]\ttrain-merror:0.060127\teval-merror:0.481013\n",
      "[13]\ttrain-merror:0.056962\teval-merror:0.493671\n",
      "[14]\ttrain-merror:0.060127\teval-merror:0.493671\n",
      "[15]\ttrain-merror:0.050633\teval-merror:0.493671\n",
      "[16]\ttrain-merror:0.047468\teval-merror:0.481013\n",
      "[17]\ttrain-merror:0.050633\teval-merror:0.506329\n",
      "[18]\ttrain-merror:0.041139\teval-merror:0.481013\n",
      "[19]\ttrain-merror:0.041139\teval-merror:0.468354\n",
      "[20]\ttrain-merror:0.041139\teval-merror:0.468354\n",
      "[21]\ttrain-merror:0.03481\teval-merror:0.468354\n",
      "[22]\ttrain-merror:0.028481\teval-merror:0.468354\n",
      "[23]\ttrain-merror:0.025316\teval-merror:0.43038\n",
      "[24]\ttrain-merror:0.025316\teval-merror:0.443038\n",
      "[25]\ttrain-merror:0.018987\teval-merror:0.43038\n",
      "[26]\ttrain-merror:0.015823\teval-merror:0.443038\n",
      "[27]\ttrain-merror:0.012658\teval-merror:0.468354\n",
      "[28]\ttrain-merror:0.012658\teval-merror:0.455696\n",
      "[29]\ttrain-merror:0.009494\teval-merror:0.455696\n",
      "[30]\ttrain-merror:0.009494\teval-merror:0.481013\n",
      "[31]\ttrain-merror:0.006329\teval-merror:0.468354\n",
      "[32]\ttrain-merror:0.003165\teval-merror:0.455696\n",
      "[33]\ttrain-merror:0.003165\teval-merror:0.468354\n",
      "[34]\ttrain-merror:0.003165\teval-merror:0.468354\n",
      "[35]\ttrain-merror:0\teval-merror:0.468354\n",
      "[36]\ttrain-merror:0\teval-merror:0.443038\n",
      "[37]\ttrain-merror:0\teval-merror:0.455696\n",
      "[38]\ttrain-merror:0\teval-merror:0.468354\n",
      "[39]\ttrain-merror:0\teval-merror:0.481013\n"
     ]
    }
   ],
   "source": [
    "params = {'bst:max_depth':4, 'bst:eta':.01, 'objective':'multi:softmax', 'num_class': 3}\n",
    "params['eval_metric'] = 'merror'\n",
    "evallist  = [(dtrain, 'train'), (dtest, 'eval')]\n",
    "\n",
    "num_round = 40\n",
    "bst = xgb.train(params, dtrain, num_round, evallist)"
   ]
  },
  {
   "cell_type": "code",
   "execution_count": null,
   "metadata": {
    "collapsed": true
   },
   "outputs": [],
   "source": []
  }
 ],
 "metadata": {
  "anaconda-cloud": {},
  "kernelspec": {
   "display_name": "Python [kaggle]",
   "language": "python",
   "name": "Python [kaggle]"
  },
  "language_info": {
   "codemirror_mode": {
    "name": "ipython",
    "version": 2
   },
   "file_extension": ".py",
   "mimetype": "text/x-python",
   "name": "python",
   "nbconvert_exporter": "python",
   "pygments_lexer": "ipython2",
   "version": "2.7.12"
  }
 },
 "nbformat": 4,
 "nbformat_minor": 0
}
